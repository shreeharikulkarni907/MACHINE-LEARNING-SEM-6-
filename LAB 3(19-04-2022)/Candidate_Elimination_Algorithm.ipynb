{
 "cells": [
  {
   "cell_type": "code",
   "execution_count": 120,
   "id": "323871ed",
   "metadata": {},
   "outputs": [],
   "source": [
    "import pandas as pd"
   ]
  },
  {
   "cell_type": "code",
   "execution_count": 121,
   "id": "c44fa34b",
   "metadata": {},
   "outputs": [],
   "source": [
    "import numpy as np"
   ]
  },
  {
   "cell_type": "code",
   "execution_count": 122,
   "id": "75c15447",
   "metadata": {},
   "outputs": [],
   "source": [
    "data=pd.read_csv('file.csv')"
   ]
  },
  {
   "cell_type": "code",
   "execution_count": 123,
   "id": "0171b6d1",
   "metadata": {},
   "outputs": [
    {
     "name": "stdout",
     "output_type": "stream",
     "text": [
      "      SKY AIRTEMP HUMIDITY    WIND WATER FORECAST ENJOYSPORT\n",
      "0   Sunny    Warm   Normal  Strong  Warm     Same        Yes\n",
      "1  Sunny     Warm     High  Strong  Warm     Same        Yes\n",
      "2   Rainy    Cold     High  Strong  Warm   Change         No\n",
      "3   Sunny    Warm     High  Strong  Cool   Change        Yes\n"
     ]
    }
   ],
   "source": [
    "print(data)"
   ]
  },
  {
   "cell_type": "code",
   "execution_count": 124,
   "id": "ddefb532",
   "metadata": {},
   "outputs": [],
   "source": [
    "d=np.array(data)[:,:-1]"
   ]
  },
  {
   "cell_type": "code",
   "execution_count": 125,
   "id": "b561d75a",
   "metadata": {},
   "outputs": [
    {
     "name": "stdout",
     "output_type": "stream",
     "text": [
      "[['Sunny' 'Warm' 'Normal' 'Strong' 'Warm' 'Same']\n",
      " ['Sunny ' 'Warm' 'High' 'Strong' 'Warm' 'Same']\n",
      " ['Rainy' 'Cold' 'High' 'Strong' 'Warm' 'Change']\n",
      " ['Sunny' 'Warm' 'High' 'Strong' 'Cool' 'Change']]\n"
     ]
    }
   ],
   "source": [
    "print(d)"
   ]
  },
  {
   "cell_type": "code",
   "execution_count": 126,
   "id": "e4d401ec",
   "metadata": {},
   "outputs": [],
   "source": [
    "target=np.array(data)[:,-1]"
   ]
  },
  {
   "cell_type": "code",
   "execution_count": 127,
   "id": "357672c9",
   "metadata": {},
   "outputs": [
    {
     "name": "stdout",
     "output_type": "stream",
     "text": [
      "['Yes' 'Yes' 'No' 'Yes']\n"
     ]
    }
   ],
   "source": [
    "print(target)"
   ]
  },
  {
   "cell_type": "code",
   "execution_count": 128,
   "id": "e7656c92",
   "metadata": {},
   "outputs": [],
   "source": [
    "for i in range(len(target)):\n",
    "    if(target[i].strip()=='Yes'):\n",
    "        specific_h=d[i].copy();\n",
    "        break\n",
    "        "
   ]
  },
  {
   "cell_type": "code",
   "execution_count": 129,
   "id": "02bd53e6",
   "metadata": {},
   "outputs": [],
   "source": [
    "generic_h=[['?','?','?','?','?','?'],['?','?','?','?','?','?'],['?','?','?','?','?','?'],['?','?','?','?','?','?'],['?','?','?','?','?','?'],['?','?','?','?','?','?']]"
   ]
  },
  {
   "cell_type": "code",
   "execution_count": 130,
   "id": "435e81d0",
   "metadata": {},
   "outputs": [
    {
     "name": "stdout",
     "output_type": "stream",
     "text": [
      "INSTANCE IS POSITIVE\n",
      "After Iteration 1 Specific Hypothesis ['Sunny' 'Warm' 'Normal' 'Strong' 'Warm' 'Same']\n",
      "After Iteration 1 Generic Hypothesis [['?', '?', '?', '?', '?', '?'], ['?', '?', '?', '?', '?', '?'], ['?', '?', '?', '?', '?', '?'], ['?', '?', '?', '?', '?', '?'], ['?', '?', '?', '?', '?', '?'], ['?', '?', '?', '?', '?', '?']]\n",
      "INSTANCE IS POSITIVE\n",
      "After Iteration 2 Specific Hypothesis ['Sunny' 'Warm' '?' 'Strong' 'Warm' 'Same']\n",
      "After Iteration 2 Generic Hypothesis [['?', '?', '?', '?', '?', '?'], ['?', '?', '?', '?', '?', '?'], ['?', '?', '?', '?', '?', '?'], ['?', '?', '?', '?', '?', '?'], ['?', '?', '?', '?', '?', '?'], ['?', '?', '?', '?', '?', '?']]\n",
      "Instance is negative\n",
      "After Iteration 3 Specific Hypothesis ['Sunny' 'Warm' '?' 'Strong' 'Warm' 'Same']\n",
      "After Iteration 3 Generic Hypothesis [['Sunny', '?', '?', '?', '?', '?'], ['?', 'Warm', '?', '?', '?', '?'], ['?', '?', '?', '?', '?', '?'], ['?', '?', '?', '?', '?', '?'], ['?', '?', '?', '?', '?', '?'], ['?', '?', '?', '?', '?', 'Same']]\n",
      "INSTANCE IS POSITIVE\n",
      "After Iteration 4 Specific Hypothesis ['Sunny' 'Warm' '?' 'Strong' '?' '?']\n",
      "After Iteration 4 Generic Hypothesis [['Sunny', '?', '?', '?', '?', '?'], ['?', 'Warm', '?', '?', '?', '?'], ['?', '?', '?', '?', '?', '?'], ['?', '?', '?', '?', '?', '?'], ['?', '?', '?', '?', '?', '?'], ['?', '?', '?', '?', '?', '?']]\n",
      "FINAL SPECIFIC HYPOTHESIS ['Sunny' 'Warm' '?' 'Strong' '?' '?']\n",
      "GENERAL HYPOTHESIS [['Sunny', '?', '?', '?', '?', '?'], ['?', 'Warm', '?', '?', '?', '?']]\n"
     ]
    }
   ],
   "source": [
    "for i in range(len(target)):\n",
    "    if(target[i].strip()=='Yes'):\n",
    "        print('INSTANCE IS POSITIVE')\n",
    "        for j in range(len(d[i])):\n",
    "            if specific_h[j].strip()!=d[i][j].strip():\n",
    "                specific_h[j]='?'\n",
    "                generic_h[j][j]='?'\n",
    "        print('After Iteration ' + str(i+1) + ' Specific Hypothesis ' + str(specific_h))\n",
    "        print('After Iteration ' + str(i+1) + ' Generic Hypothesis ' + str(generic_h))\n",
    "    else:\n",
    "        print('Instance is negative')\n",
    "        for j in range(len(d[i])):\n",
    "            if specific_h[j].strip()!=d[i][j].strip():\n",
    "                generic_h[j][j]=specific_h[j].strip()\n",
    "            else:\n",
    "                generic_h[j][j]='?'\n",
    "        print('After Iteration ' + str(i+1) + ' Specific Hypothesis ' + str(specific_h))\n",
    "        print('After Iteration ' + str(i+1) + ' Generic Hypothesis ' + str(generic_h))\n",
    "        \n",
    "        \n",
    "\n",
    "        \n",
    "        \n",
    "ind=[i for i,v in enumerate(generic_h) if v==['?','?','?','?','?','?']]\n",
    "        \n",
    "for i in ind:\n",
    "    generic_h.remove(['?','?','?','?','?','?'])\n",
    "\n",
    "\n",
    "        \n",
    "print('FINAL SPECIFIC HYPOTHESIS ' + str(specific_h))\n",
    "print('GENERAL HYPOTHESIS '+ str(generic_h))\n",
    "                \n",
    "                \n",
    "                \n",
    "        "
   ]
  },
  {
   "cell_type": "code",
   "execution_count": null,
   "id": "9153631a",
   "metadata": {},
   "outputs": [],
   "source": []
  },
  {
   "cell_type": "code",
   "execution_count": null,
   "id": "26ae17c6",
   "metadata": {},
   "outputs": [],
   "source": []
  }
 ],
 "metadata": {
  "kernelspec": {
   "display_name": "Python 3 (ipykernel)",
   "language": "python",
   "name": "python3"
  },
  "language_info": {
   "codemirror_mode": {
    "name": "ipython",
    "version": 3
   },
   "file_extension": ".py",
   "mimetype": "text/x-python",
   "name": "python",
   "nbconvert_exporter": "python",
   "pygments_lexer": "ipython3",
   "version": "3.9.7"
  }
 },
 "nbformat": 4,
 "nbformat_minor": 5
}

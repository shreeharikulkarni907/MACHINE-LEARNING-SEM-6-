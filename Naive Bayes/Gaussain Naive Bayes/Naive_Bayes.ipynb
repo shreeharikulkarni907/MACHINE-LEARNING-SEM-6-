{
 "cells": [
  {
   "cell_type": "code",
   "execution_count": 99,
   "metadata": {},
   "outputs": [],
   "source": [
    "import csv\n",
    "import random\n",
    "import math\n",
    "import pandas as pd"
   ]
  },
  {
   "cell_type": "code",
   "execution_count": 100,
   "metadata": {},
   "outputs": [],
   "source": [
    "def loadcsv(filename):\n",
    "    dataset=pd.read_csv(filename)\n",
    "    n=len(dataset['Pregnancies'].values)\n",
    "    dataframe=[]\n",
    "    for i in range (n):\n",
    "        dataframe.append(dataset.iloc[i].values.tolist())\n",
    "        \n",
    "    return dataframe"
   ]
  },
  {
   "cell_type": "code",
   "execution_count": 101,
   "metadata": {},
   "outputs": [],
   "source": [
    "def splitdataset(dataset, splitratio):\n",
    "    #67% training size\n",
    "\ttrainsize = int(len(dataset) * splitratio);\n",
    "\ttrainset = []\n",
    "\tcopy = list(dataset);    \n",
    "\twhile len(trainset) < trainsize:\n",
    "#generate indices for the dataset list randomly to pick ele for training data\n",
    "\t\tindex = random.randrange(len(copy));       \n",
    "\t\ttrainset.append(copy.pop(index))    \n",
    "\treturn [trainset, copy]"
   ]
  },
  {
   "cell_type": "code",
   "execution_count": 102,
   "metadata": {},
   "outputs": [],
   "source": [
    "def separatebyclass(dataset):\n",
    "\tseparated = {}\n",
    "\tfor i in range(len(dataset)):\n",
    "\t\tvector = dataset[i]\n",
    "\t\tif (vector[-1] not in separated):\n",
    "\t\t\tseparated[vector[-1]] = []\n",
    "\t\tseparated[vector[-1]].append(vector)\n",
    "\treturn separated"
   ]
  },
  {
   "cell_type": "code",
   "execution_count": 103,
   "metadata": {},
   "outputs": [],
   "source": [
    "def mean(numbers):\n",
    "\treturn sum(numbers)/float(len(numbers))\n",
    " \n",
    "def stdev(numbers):\n",
    "\tavg = mean(numbers)\n",
    "\tvariance = sum([pow(x-avg,2) for x in numbers])/float(len(numbers)-1)\n",
    "\treturn math.sqrt(variance)"
   ]
  },
  {
   "cell_type": "code",
   "execution_count": 104,
   "metadata": {},
   "outputs": [],
   "source": [
    "def summarize(dataset): #creates a dictionary of classes\n",
    "\tsummaries = [(mean(attribute), stdev(attribute)) for attribute in zip(*dataset)];\n",
    "\tdel summaries[-1]#excluding labels +ve or -ve\n",
    "\tprint(summaries[-1])\n",
    "\treturn summaries"
   ]
  },
  {
   "cell_type": "code",
   "execution_count": 105,
   "metadata": {},
   "outputs": [],
   "source": [
    "def summarizebyclass(dataset):\n",
    "\tseparated = separatebyclass(dataset); \n",
    "#     print(separated)\n",
    "\tsummaries = {}\n",
    "\tfor classvalue, instances in separated.items():       \n",
    "\t\tsummaries[classvalue] = summarize(instances) #summarize is used to cal to mean and std\n",
    "\treturn summaries"
   ]
  },
  {
   "cell_type": "code",
   "execution_count": 106,
   "metadata": {},
   "outputs": [],
   "source": [
    "def calculateprobability(x, mean, stdev):\n",
    "\texponent = math.exp(-(math.pow(x-mean,2)/(2*math.pow(stdev,2))))\n",
    "\treturn (1 / (math.sqrt(2*math.pi) * stdev)) * exponent"
   ]
  },
  {
   "cell_type": "code",
   "execution_count": 107,
   "metadata": {},
   "outputs": [],
   "source": [
    "def calculateclassprobabilities(summaries, inputvector):\n",
    "\tprobabilities = {} # probabilities contains the all prob of all class of test data\n",
    "\tfor classvalue, classsummaries in summaries.items():#class and attribute information as mean and sd\n",
    "\t\tprobabilities[classvalue] = 1\n",
    "\t\tfor i in range(len(classsummaries)):\n",
    "\t\t\tmean, stdev = classsummaries[i] #take mean and sd of every attribute for class 0 and 1 seperaely\n",
    "\t\t\tx = inputvector[i] #testvector's first attribute\n",
    "\t\t\tprobabilities[classvalue] *= calculateprobability(x, mean, stdev);#use normal dist\n",
    "\treturn probabilities"
   ]
  },
  {
   "cell_type": "code",
   "execution_count": 108,
   "metadata": {},
   "outputs": [],
   "source": [
    "def predict(summaries, inputvector): #training and test data is passed\n",
    "\tprobabilities = calculateclassprobabilities(summaries, inputvector)\n",
    "# \tprint(probabilities)   \n",
    "\tbestLabel, bestProb = None, -1\n",
    "\tfor classvalue, probability in probabilities.items():#assigns that class which has he highest prob\n",
    "\t\tif bestLabel is None or probability > bestProb:\n",
    "\t\t\tbestProb = probability\n",
    "\t\t\tbestLabel = classvalue\n",
    "\treturn bestLabel"
   ]
  },
  {
   "cell_type": "code",
   "execution_count": 109,
   "metadata": {},
   "outputs": [],
   "source": [
    "def getpredictions(summaries, testset):\n",
    "\tpredictions = []\n",
    "\tfor i in range(len(testset)):\n",
    "\t\tresult = predict(summaries, testset[i])\n",
    "\t\tpredictions.append(result)\n",
    "# \t\tprint(result)\n",
    "\treturn predictions"
   ]
  },
  {
   "cell_type": "code",
   "execution_count": 110,
   "metadata": {},
   "outputs": [],
   "source": [
    "def getaccuracy(testset, predictions):\n",
    "\tcorrect = 0\n",
    "\tfor i in range(len(testset)):\n",
    "\t\tif testset[i][-1] == predictions[i]:\n",
    "\t\t\tcorrect += 1\n",
    "\treturn (correct/float(len(testset))) * 100.0"
   ]
  },
  {
   "cell_type": "code",
   "execution_count": 111,
   "metadata": {},
   "outputs": [],
   "source": [
    "def main():\n",
    "\tfilename = 'bayes.csv'\n",
    "\tsplitratio = 0.67\n",
    "\tdataset = loadcsv(filename);\n",
    "     \n",
    "\ttrainingset, testset = splitdataset(dataset, splitratio)\n",
    "\tprint('Split {0} rows into train={1} and test={2} rows'.format(len(dataset), len(trainingset), len(testset)))\n",
    "\t# prepare model\n",
    "\tsummaries = summarizebyclass(trainingset);    \n",
    "\t#print(summaries)\n",
    "    # test model\n",
    "\tpredictions = getpredictions(summaries, testset) #find the predictions of test data with the training data\n",
    "\taccuracy = getaccuracy(testset, predictions)\n",
    "\tprint('Accuracy of the classifier is : {0}%'.format(accuracy))"
   ]
  },
  {
   "cell_type": "code",
   "execution_count": 112,
   "metadata": {},
   "outputs": [
    {
     "name": "stdout",
     "output_type": "stream",
     "text": [
      "Split 767 rows into train=513 and test=254 rows\n",
      "(37.30107526881721, 10.837657018394614)\n",
      "(31.38532110091743, 11.32474481914113)\n",
      "Accuracy of the classifier is : 76.37795275590551%\n"
     ]
    }
   ],
   "source": [
    "main()\n"
   ]
  },
  {
   "cell_type": "code",
   "execution_count": null,
   "metadata": {},
   "outputs": [],
   "source": []
  }
 ],
 "metadata": {
  "kernelspec": {
   "display_name": "Python 3",
   "language": "python",
   "name": "python3"
  },
  "language_info": {
   "codemirror_mode": {
    "name": "ipython",
    "version": 3
   },
   "file_extension": ".py",
   "mimetype": "text/x-python",
   "name": "python",
   "nbconvert_exporter": "python",
   "pygments_lexer": "ipython3",
   "version": "3.7.6"
  }
 },
 "nbformat": 4,
 "nbformat_minor": 4
}

{
 "cells": [
  {
   "cell_type": "code",
   "execution_count": 85,
   "metadata": {},
   "outputs": [],
   "source": [
    "import pandas as pd\n",
    "import numpy as np\n"
   ]
  },
  {
   "cell_type": "code",
   "execution_count": 86,
   "metadata": {},
   "outputs": [
    {
     "data": {
      "text/html": [
       "<div>\n",
       "<style scoped>\n",
       "    .dataframe tbody tr th:only-of-type {\n",
       "        vertical-align: middle;\n",
       "    }\n",
       "\n",
       "    .dataframe tbody tr th {\n",
       "        vertical-align: top;\n",
       "    }\n",
       "\n",
       "    .dataframe thead th {\n",
       "        text-align: right;\n",
       "    }\n",
       "</style>\n",
       "<table border=\"1\" class=\"dataframe\">\n",
       "  <thead>\n",
       "    <tr style=\"text-align: right;\">\n",
       "      <th></th>\n",
       "      <th>Day</th>\n",
       "      <th>Outlook</th>\n",
       "      <th>Temperature</th>\n",
       "      <th>Humidity</th>\n",
       "      <th>Wind</th>\n",
       "      <th>Outcome</th>\n",
       "    </tr>\n",
       "  </thead>\n",
       "  <tbody>\n",
       "    <tr>\n",
       "      <th>0</th>\n",
       "      <td>d1</td>\n",
       "      <td>sunny</td>\n",
       "      <td>hot</td>\n",
       "      <td>high</td>\n",
       "      <td>weak</td>\n",
       "      <td>no</td>\n",
       "    </tr>\n",
       "    <tr>\n",
       "      <th>1</th>\n",
       "      <td>d2</td>\n",
       "      <td>sunny</td>\n",
       "      <td>hot</td>\n",
       "      <td>high</td>\n",
       "      <td>strong</td>\n",
       "      <td>no</td>\n",
       "    </tr>\n",
       "    <tr>\n",
       "      <th>2</th>\n",
       "      <td>d3</td>\n",
       "      <td>overcast</td>\n",
       "      <td>hot</td>\n",
       "      <td>high</td>\n",
       "      <td>weak</td>\n",
       "      <td>yes</td>\n",
       "    </tr>\n",
       "    <tr>\n",
       "      <th>3</th>\n",
       "      <td>d4</td>\n",
       "      <td>rain</td>\n",
       "      <td>mild</td>\n",
       "      <td>high</td>\n",
       "      <td>weak</td>\n",
       "      <td>yes</td>\n",
       "    </tr>\n",
       "    <tr>\n",
       "      <th>4</th>\n",
       "      <td>d5</td>\n",
       "      <td>rain</td>\n",
       "      <td>cool</td>\n",
       "      <td>normal</td>\n",
       "      <td>weak</td>\n",
       "      <td>yes</td>\n",
       "    </tr>\n",
       "  </tbody>\n",
       "</table>\n",
       "</div>"
      ],
      "text/plain": [
       "  Day   Outlook Temperature Humidity    Wind Outcome\n",
       "0  d1     sunny         hot     high    weak      no\n",
       "1  d2     sunny         hot     high  strong      no\n",
       "2  d3  overcast         hot     high    weak     yes\n",
       "3  d4      rain        mild     high    weak     yes\n",
       "4  d5      rain        cool   normal    weak     yes"
      ]
     },
     "execution_count": 86,
     "metadata": {},
     "output_type": "execute_result"
    }
   ],
   "source": [
    "dataset=pd.read_csv('naive.csv')\n",
    "dataset.head()"
   ]
  },
  {
   "cell_type": "code",
   "execution_count": 87,
   "metadata": {},
   "outputs": [],
   "source": [
    "target=dataset['Outcome'].values\n",
    "yes_count=0\n",
    "no_count=0\n",
    "for value in target:\n",
    "    if value=='yes':\n",
    "        yes_count+=1\n",
    "    else:\n",
    "        no_count+=1\n",
    "        \n",
    "prob_yes=yes_count/float(len(dataset))\n",
    "prob_no=no_count/float(len(dataset))"
   ]
  },
  {
   "cell_type": "code",
   "execution_count": 88,
   "metadata": {},
   "outputs": [],
   "source": [
    "def freq_table(vector,target):\n",
    "    answer={}\n",
    "    for (value,target) in zip(vector,target):\n",
    "        if value not in answer:\n",
    "            if target==\"no\":\n",
    "                answer[value]=[0,1]\n",
    "            else:\n",
    "                answer[value]=[1,0]\n",
    "        else:\n",
    "            if target==\"no\":\n",
    "                answer[value][1] += 1\n",
    "            else:\n",
    "                answer[value][0] += 1\n",
    "    return answer\n",
    "# print(outlook)"
   ]
  },
  {
   "cell_type": "code",
   "execution_count": 89,
   "metadata": {},
   "outputs": [],
   "source": [
    "out=dataset['Outlook'].values\n",
    "temp=dataset['Temperature'].values\n",
    "hum=dataset['Humidity'].values\n",
    "win=dataset['Wind'].values\n",
    "target=dataset['Outcome'].values\n",
    "\n",
    "\n",
    "outlook=freq_table(out,target)\n",
    "temperature=freq_table(temp,target)\n",
    "humidity=freq_table(hum,target)\n",
    "wind=freq_table(win,target)"
   ]
  },
  {
   "cell_type": "code",
   "execution_count": 90,
   "metadata": {},
   "outputs": [],
   "source": [
    "def prob_table(attribute):\n",
    "    for value in attribute.values():\n",
    "        value[0]=value[0]/yes_count\n",
    "        value[1]=value[1]/no_count\n",
    "    return attribute"
   ]
  },
  {
   "cell_type": "code",
   "execution_count": 91,
   "metadata": {},
   "outputs": [],
   "source": [
    "outlook_prob=prob_table(outlook)\n",
    "temperature_prob=prob_table(temperature)\n",
    "humidity_prob=prob_table(humidity)\n",
    "wind_prob=prob_table(wind)"
   ]
  },
  {
   "cell_type": "code",
   "execution_count": 94,
   "metadata": {},
   "outputs": [
    {
     "name": "stdout",
     "output_type": "stream",
     "text": [
      "Enter the value of the Outlook attribute sunny\n",
      "Enter the value of Temperatue Attribute mild\n",
      "Enter the value of the Humidity Attribute normal\n",
      "Enter the value of the Wind Attribute weak\n",
      "Probablity of playing the sport with given circumstances is 0.8045052292839903\n",
      "Probability of not playing the sport with given circumstances is  0.19549477071600965\n"
     ]
    }
   ],
   "source": [
    "outlook_value=input('Enter the value of the Outlook attribute ')\n",
    "temperature_value=input('Enter the value of Temperatue Attribute ')\n",
    "humidity_value=input('Enter the value of the Humidity Attribute ')\n",
    "wind_value=input('Enter the value of the Wind Attribute ')\n",
    "\n",
    "positive=prob_yes * outlook_prob[outlook_value][0] * temperature_prob[temperature_value][0] * humidity_prob[humidity_value][0] * wind_prob[wind_value][0]\n",
    "negative=prob_no * outlook_prob[outlook_value][1] * temperature_prob[temperature_value][1] * humidity_prob[humidity_value][1] * wind_prob[wind_value][1]\n",
    "\n",
    "\n",
    "postive=positive/(positive + negative)\n",
    "negtive=negative/(positive + negative)\n",
    "\n",
    "print(\"Probablity of playing the sport with given circumstances is \" + str(postive))\n",
    "print(\"Probability of not playing the sport with given circumstances is  \" + str(negtive))\n",
    "# print(positive + negative)"
   ]
  },
  {
   "cell_type": "code",
   "execution_count": null,
   "metadata": {},
   "outputs": [],
   "source": []
  }
 ],
 "metadata": {
  "kernelspec": {
   "display_name": "Python 3",
   "language": "python",
   "name": "python3"
  },
  "language_info": {
   "codemirror_mode": {
    "name": "ipython",
    "version": 3
   },
   "file_extension": ".py",
   "mimetype": "text/x-python",
   "name": "python",
   "nbconvert_exporter": "python",
   "pygments_lexer": "ipython3",
   "version": "3.7.6"
  }
 },
 "nbformat": 4,
 "nbformat_minor": 4
}
